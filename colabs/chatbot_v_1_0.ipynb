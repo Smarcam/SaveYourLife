{
  "nbformat": 4,
  "nbformat_minor": 0,
  "metadata": {
    "colab": {
      "provenance": []
    },
    "kernelspec": {
      "name": "python3",
      "display_name": "Python 3"
    },
    "language_info": {
      "name": "python"
    }
  },
  "cells": [
    {
      "cell_type": "markdown",
      "source": [
        "# **Trabajo Fin de Master**\n",
        "\n",
        "### Miguel Angel Ortega Duran \n",
        "\n",
        "### Samuel Martínez Camacho"
      ],
      "metadata": {
        "id": "rVextqfmFTK9"
      }
    },
    {
      "cell_type": "markdown",
      "source": [
        "Para mostrar este proyecto elaboramos un chatbot sencillo en base a una serie de patrones y respuestas elaborado en un Json, en el que hemos incluido respuesta a ciertas preguntas sombre los tumores que podemos detectar.\n",
        "\n",
        "Hemos decidido elaborar con procesamiento del lenguaje natural, para tratar de mejorar el resultado de las  respuestas."
      ],
      "metadata": {
        "id": "Wa3G9iE8L71r"
      }
    },
    {
      "cell_type": "markdown",
      "source": [
        "<img src=https://www.talentview.fr/wp-content/uploads/2018/03/DigitasLBi-cree-BotCamp-programme-cocreation-chatbot-marques-T-1040x464-1-1024x457.webp>"
      ],
      "metadata": {
        "id": "stA-uawPNCPe"
      }
    },
    {
      "cell_type": "markdown",
      "source": [
        "Importamos las librerías y herramientas utilizadas en el procesamiento de lenguaje natural y el aprendizaje automático.\n",
        "\n",
        "* nltk: una librería de procesamiento de lenguaje natural que proporciona herramientas para trabajar con texto en lenguaje natural, como tokenización, etiquetado de partes del discurso, lematización, etc.\n",
        "\n",
        "* WordNetLemmatizer: una herramienta de nltk para la lematización de palabras, que consiste en reducir una palabra a su forma base o lema.\n",
        "\n",
        "* json: una librería de Python para trabajar con archivos JSON, que son un formato de datos muy utilizado para el intercambio de información en aplicaciones web.\n",
        "\n",
        "* pickle: una librería de Python para serializar y deserializar objetos de Python, es decir, para convertir objetos de Python en una secuencia de bytes y viceversa.\n",
        "\n",
        "* warnings: una librería de Python para el manejo de advertencias y mensajes de advertencia.\n",
        "\n",
        "* numpy: una librería de Python para trabajar con matrices y arreglos multidimensionales.\n",
        "tensorflow: una librería de aprendizaje automático y deep learning desarrollada por Google.\n",
        "\n",
        "* keras: una librería de deep learning que se ejecuta sobre tensorflow.\n",
        "Sequential: una clase de keras que permite crear modelos de redes neuronales secuenciales, es decir, en los que las capas se apilan una encima de otra en secuencia.\n",
        "\n",
        "* Dense: una clase de keras que representa una capa densamente conectada de neuronas.\n",
        "\n",
        "* Activation: una clase de keras que representa una función de activación de neuronas.\n",
        "\n",
        "* Dropout: una clase de keras que representa una técnica para evitar el sobreajuste en los modelos de redes neuronales.\n",
        "\n",
        "* SGD: una clase de tensorflow.keras.optimizers que representa un optimizador basado en descenso de gradiente estocástico.\n",
        "\n",
        "* random: una librería de Python para trabajar con números aleatorios.\n",
        "\n",
        "\n",
        "\n"
      ],
      "metadata": {
        "id": "ClnOSUrrbQuh"
      }
    },
    {
      "cell_type": "code",
      "source": [
        "import nltk\n",
        "from nltk.tokenize import word_tokenize\n",
        "from nltk.stem import SnowballStemmer\n",
        "from nltk.stem import WordNetLemmatizer\n",
        "lemmatizer = WordNetLemmatizer()\n",
        "import json\n",
        "import pickle\n",
        "import warnings\n",
        "import numpy as np\n",
        "import keras\n",
        "from keras.models import Sequential\n",
        "from keras.layers import Dense, Activation, Dropout\n",
        "from keras.optimizers import SGD, Adam\n",
        "from keras.callbacks import EarlyStopping, ModelCheckpoint, ReduceLROnPlateau\n",
        "\n",
        "import random\n",
        "warnings.filterwarnings('ignore')"
      ],
      "metadata": {
        "id": "eZ484AcFFlaJ"
      },
      "execution_count": 1,
      "outputs": []
    },
    {
      "cell_type": "markdown",
      "source": [
        "Descargamos los paquetes más populares del módulo Natural Language Toolkit (NLTK), que es una biblioteca de Python utilizada para procesar y analizar datos de texto. La descarga de estos paquetes populares es necesaria para utilizar muchas de las funciones de NLTK, como la tokenización y el análisis morfológico. Algunos de los paquetes incluidos en la descarga son stopwords, punkt, wordnet, entre otros."
      ],
      "metadata": {
        "id": "dEFinIGRIArd"
      }
    },
    {
      "cell_type": "code",
      "execution_count": 2,
      "metadata": {
        "id": "97jqWQRWTm2w",
        "colab": {
          "base_uri": "https://localhost:8080/"
        },
        "outputId": "5ab01a19-be3c-4601-d658-52c8b1159b53"
      },
      "outputs": [
        {
          "output_type": "stream",
          "name": "stderr",
          "text": [
            "[nltk_data] Downloading collection 'popular'\n",
            "[nltk_data]    | \n",
            "[nltk_data]    | Downloading package cmudict to /root/nltk_data...\n",
            "[nltk_data]    |   Unzipping corpora/cmudict.zip.\n",
            "[nltk_data]    | Downloading package gazetteers to /root/nltk_data...\n",
            "[nltk_data]    |   Unzipping corpora/gazetteers.zip.\n",
            "[nltk_data]    | Downloading package genesis to /root/nltk_data...\n",
            "[nltk_data]    |   Unzipping corpora/genesis.zip.\n",
            "[nltk_data]    | Downloading package gutenberg to /root/nltk_data...\n",
            "[nltk_data]    |   Unzipping corpora/gutenberg.zip.\n",
            "[nltk_data]    | Downloading package inaugural to /root/nltk_data...\n",
            "[nltk_data]    |   Unzipping corpora/inaugural.zip.\n",
            "[nltk_data]    | Downloading package movie_reviews to\n",
            "[nltk_data]    |     /root/nltk_data...\n",
            "[nltk_data]    |   Unzipping corpora/movie_reviews.zip.\n",
            "[nltk_data]    | Downloading package names to /root/nltk_data...\n",
            "[nltk_data]    |   Unzipping corpora/names.zip.\n",
            "[nltk_data]    | Downloading package shakespeare to /root/nltk_data...\n",
            "[nltk_data]    |   Unzipping corpora/shakespeare.zip.\n",
            "[nltk_data]    | Downloading package stopwords to /root/nltk_data...\n",
            "[nltk_data]    |   Unzipping corpora/stopwords.zip.\n",
            "[nltk_data]    | Downloading package treebank to /root/nltk_data...\n",
            "[nltk_data]    |   Unzipping corpora/treebank.zip.\n",
            "[nltk_data]    | Downloading package twitter_samples to\n",
            "[nltk_data]    |     /root/nltk_data...\n",
            "[nltk_data]    |   Unzipping corpora/twitter_samples.zip.\n",
            "[nltk_data]    | Downloading package omw to /root/nltk_data...\n",
            "[nltk_data]    | Downloading package omw-1.4 to /root/nltk_data...\n",
            "[nltk_data]    | Downloading package wordnet to /root/nltk_data...\n",
            "[nltk_data]    | Downloading package wordnet2021 to /root/nltk_data...\n",
            "[nltk_data]    | Downloading package wordnet31 to /root/nltk_data...\n",
            "[nltk_data]    | Downloading package wordnet_ic to /root/nltk_data...\n",
            "[nltk_data]    |   Unzipping corpora/wordnet_ic.zip.\n",
            "[nltk_data]    | Downloading package words to /root/nltk_data...\n",
            "[nltk_data]    |   Unzipping corpora/words.zip.\n",
            "[nltk_data]    | Downloading package maxent_ne_chunker to\n",
            "[nltk_data]    |     /root/nltk_data...\n",
            "[nltk_data]    |   Unzipping chunkers/maxent_ne_chunker.zip.\n",
            "[nltk_data]    | Downloading package punkt to /root/nltk_data...\n",
            "[nltk_data]    |   Unzipping tokenizers/punkt.zip.\n",
            "[nltk_data]    | Downloading package snowball_data to\n",
            "[nltk_data]    |     /root/nltk_data...\n",
            "[nltk_data]    | Downloading package averaged_perceptron_tagger to\n",
            "[nltk_data]    |     /root/nltk_data...\n",
            "[nltk_data]    |   Unzipping taggers/averaged_perceptron_tagger.zip.\n",
            "[nltk_data]    | \n",
            "[nltk_data]  Done downloading collection popular\n"
          ]
        },
        {
          "output_type": "execute_result",
          "data": {
            "text/plain": [
              "True"
            ]
          },
          "metadata": {},
          "execution_count": 2
        }
      ],
      "source": [
        "nltk.download(\"popular\")"
      ]
    },
    {
      "cell_type": "markdown",
      "source": [
        "Cargamos un archivo JSON llamado \"intents.json\" que contiene datos sobre diferentes intenciones de usuario y sus correspondientes respuestas. Los datos son cargados en formato de diccionario de Python.\n",
        "\n",
        "La variable \"words\" se usa para almacenar todas las palabras únicas en los patrones de entrada.\n",
        "\n",
        "La variable \"classes\" se usa para almacenar las etiquetas únicas de las intenciones. \n",
        "\n",
        "La variable \"documents\" se usa para almacenar una lista de tuplas, donde cada tupla contiene una lista de palabras para un patrón de entrada y su etiqueta correspondiente.\n",
        "\n",
        "La lista \"ignore_words\" contiene signos de puntuación que se ignorarán durante el procesamiento del texto."
      ],
      "metadata": {
        "id": "VKE7XYz4IgAG"
      }
    },
    {
      "cell_type": "code",
      "source": [
        "from google.colab import drive\n",
        "drive.mount('/content/drive')"
      ],
      "metadata": {
        "id": "xRb2mcEa9EkO",
        "colab": {
          "base_uri": "https://localhost:8080/"
        },
        "outputId": "d9e46142-6808-4a92-a352-ee33cbb04e79"
      },
      "execution_count": 3,
      "outputs": [
        {
          "output_type": "stream",
          "name": "stdout",
          "text": [
            "Mounted at /content/drive\n"
          ]
        }
      ]
    },
    {
      "cell_type": "code",
      "source": [
        "words=[]\n",
        "classes = []\n",
        "documents = []\n",
        "ignore_words = ['?', '!']\n",
        "data_file = open('/content/drive/MyDrive/Json/intents.json').read() # lee el fichero de json\n",
        "intents = json.loads(data_file) # carga el fichero de json"
      ],
      "metadata": {
        "id": "xNK7Nw96JOsV"
      },
      "execution_count": 4,
      "outputs": []
    },
    {
      "cell_type": "markdown",
      "source": [
        "Construimos una lista de palabras (words) que aparecen en las frases de las intenciones. Para hacer esto, el código itera a través de cada intención en el archivo JSON (intents['intents']), luego itera a través de cada patrón de frase en esa intención (intent['patterns']), luego tokeniza cada patrón en palabras individuales usando la función nltk.word_tokenize(). Si una palabra está en la lista de palabras que se deben ignorar (ignore_words), se omite. De lo contrario, la palabra se agrega a la lista words.\n",
        "\n",
        "Construimos una lista de tuplas (documents) que contienen cada frase de intención junto con su etiqueta de clase correspondiente. Para hacer esto, el código itera a través de cada intención en el archivo JSON (intents['intents']), luego itera a través de cada patrón de frase en esa intención (intent['patterns']), y crea una tupla que contiene una lista de palabras tokenizadas para ese patrón (nltk.word_tokenize(pattern)) y la etiqueta de clase correspondiente (intent['tag']).\n",
        "\n",
        "Construimos una lista de todas las etiquetas de clase (classes) que se utilizan en el archivo JSON de intenciones. Para hacer esto, el código itera a través de cada intención en el archivo JSON (intents['intents']) y agrega cada etiqueta de clase (intent['tag']) a la lista classes si aún no está presente en la lista (usando la función set() para eliminar duplicados)."
      ],
      "metadata": {
        "id": "BGEQlQ9QKHR6"
      }
    },
    {
      "cell_type": "code",
      "source": [
        "words = [word \n",
        "         for intent in intents['intents'] \n",
        "         for pattern in intent['patterns'] \n",
        "         for word in nltk.word_tokenize(pattern) \n",
        "         if word not in ignore_words]\n",
        "\n",
        "documents = [(nltk.word_tokenize(pattern), intent['tag']) \n",
        "        for intent in intents['intents'] \n",
        "        for pattern in intent['patterns']]\n",
        "\n",
        "classes = list(set(intent['tag'] \n",
        "        for intent in intents['intents']))\n"
      ],
      "metadata": {
        "id": "PiW4EFukJoU8"
      },
      "execution_count": 5,
      "outputs": []
    },
    {
      "cell_type": "markdown",
      "source": [
        "Utilizamos la clase SnowballStemmer de la biblioteca NLTK (Natural Language Toolkit) para llevar a cabo la lematización de una palabra en español. \n",
        "\n",
        "Descargamos el modelo de datos del WordNet en varios idiomas, incluido el Open Multilingual WordNet (OMW) en su versión 1.4. \n",
        "\n",
        "WordNet es una base de datos léxica para el idioma inglés que agrupa las palabras en conjuntos de sinónimos, o \"synsets\", y proporciona definiciones cortas para cada uno de ellos. \n",
        "\n",
        "OMW es una extensión multilingüe de WordNet que cubre varios idiomas, incluido el español. Descargar este recurso con nltk.download('omw-1.4') permite utilizar la herramienta WordNet en español en los proyectos de NLP."
      ],
      "metadata": {
        "id": "lYvRwjd-KzfE"
      }
    },
    {
      "cell_type": "code",
      "source": [
        "spanish_stemmer = SnowballStemmer('spanish')\n",
        "nltk.download('omw-1.4')"
      ],
      "metadata": {
        "colab": {
          "base_uri": "https://localhost:8080/"
        },
        "id": "5iOf64AsKxOu",
        "outputId": "f529305b-79f4-44ab-f4fd-71d67e31266a"
      },
      "execution_count": 6,
      "outputs": [
        {
          "output_type": "stream",
          "name": "stderr",
          "text": [
            "[nltk_data] Downloading package omw-1.4 to /root/nltk_data...\n",
            "[nltk_data]   Package omw-1.4 is already up-to-date!\n"
          ]
        },
        {
          "output_type": "execute_result",
          "data": {
            "text/plain": [
              "True"
            ]
          },
          "metadata": {},
          "execution_count": 6
        }
      ]
    },
    {
      "cell_type": "markdown",
      "source": [
        "Lematizamos las palabras: utilizando el lematizador NLTK para reducir las palabras a su forma base. Por ejemplo, el lematizador transformaría \"corriendo\" a \"correr\".\n",
        "\n",
        "Ponemos en minúscula cada palabra: convierte todas las palabras a minúsculas para asegurar que las palabras con mayúsculas y minúsculas se traten como iguales.\n",
        "\n",
        "Eliminamos duplicados: elimina las palabras duplicadas para reducir la cantidad de datos que se procesan.\n",
        "\n",
        "Ordenamos las clases: ordena las etiquetas de intención de la lista de intenciones en orden alfabético.\n",
        "\n",
        "Combinamos patrones e intenciones: crea una lista de tuplas, donde cada tupla contiene una lista de tokens de palabras y la etiqueta de intención correspondiente. Cada tupla representa un documento de entrenamiento.\n",
        "\n",
        "Guardamos los datos procesados: guarda las palabras lematizadas únicas y las etiquetas de intención en archivos de pickle para su uso posterior en el entrenamiento del modelo de chatbot."
      ],
      "metadata": {
        "id": "jYcqxfcdQPex"
      }
    },
    {
      "cell_type": "code",
      "source": [
        "# Lematizar, poner en minúscula cada palabra y eliminar duplicados\n",
        "words = sorted(list(set([lemmatizer.lemmatize(w.lower()) for w in words if w not in ignore_words])))\n",
        "# Ordenar las clases\n",
        "classes = sorted(list(set([intent['tag'] for intent in intents['intents']])))\n",
        "# Combinación entre patrones e intenciones\n",
        "documents = [(nltk.word_tokenize(pattern), intent['tag']) for intent in intents['intents'] for pattern in intent['patterns']]\n",
        "print(len(documents), \"documentos\\n\", documents, \"\\n\")\n",
        "# Todas las palabras del vocabulario, lematizadas y sin duplicados.\n",
        "print(len(words), \"Palabras lematizadas únicas\\n\", words, \"\\n\")\n",
        "pickle.dump(words, open('words.pkl', 'wb'))\n",
        "pickle.dump(classes, open('classes.pkl', 'wb'))\n"
      ],
      "metadata": {
        "colab": {
          "base_uri": "https://localhost:8080/"
        },
        "id": "FRrY62G4NUhr",
        "outputId": "afe5a0b4-21a3-48f1-d6e5-3c295475b1fb"
      },
      "execution_count": 7,
      "outputs": [
        {
          "output_type": "stream",
          "name": "stdout",
          "text": [
            "152 documentos\n",
            " [(['Hola'], 'saludo'), (['Buenos', 'días'], 'saludo'), (['Hola', ',', '¿cómo', 'estás', '?'], 'saludo'), (['¡Hola', '!'], 'saludo'), (['¿Qué', 'hace', 'la', 'empresa', '?'], 'informacion'), (['¿En', 'qué', 'se', 'especializa', 'la', 'empresa', '?'], 'informacion'), (['¿Qué', 'tipo', 'de', 'tumores', 'detectan', '?'], 'informacion'), (['¿Cómo', 'funciona', 'la', 'detección', 'mediante', 'CNN', 'de', 'imágenes', 'de', 'resonancia', 'magnética', '?'], 'informacion'), (['¿Qué', 'servicios', 'ofrecen', '?'], 'servicios'), (['¿Cómo', 'puedo', 'programar', 'una', 'cita', '?'], 'servicios'), (['¿Qué', 'pruebas', 'de', 'detección', 'ofrecen', '?'], 'servicios'), (['¿Cuánto', 'cuesta', 'una', 'consulta', '?'], 'servicios'), (['Gracias'], 'agradecimiento'), (['Muchas', 'gracias'], 'agradecimiento'), (['¡Genial', '!'], 'agradecimiento'), (['¡Estoy', 'muy', 'agradecido', '!'], 'agradecimiento'), (['Adiós'], 'despedida'), (['Hasta', 'luego'], 'despedida'), (['¡Nos', 'vemos', 'pronto', '!'], 'despedida'), (['¡Chao', '!'], 'despedida'), (['¿Cómo', 'se', 'realiza', 'la', 'detección', 'de', 'tumores', '?'], 'deteccion'), (['¿Qué', 'proceso', 'sigue', 'la', 'detección', 'de', 'tumores', '?'], 'deteccion'), (['¿Cómo', 'funciona', 'la', 'detección', 'mediante', 'CNN', '?'], 'deteccion'), (['¿Cuál', 'es', 'el', 'procedimiento', 'para', 'detectar', 'tumores', 'mediante', 'imágenes', 'de', 'resonancia', 'magnética', '?'], 'deteccion'), (['Buenos', 'días'], 'mañana'), (['¡Hola', '!'], 'mañana'), (['¿Cómo', 'estás', '?'], 'mañana'), (['Buenas', 'tardes'], 'tarde'), (['Buenas', 'noches'], 'noche'), (['Adiós'], 'despedida'), (['Hasta', 'luego'], 'despedida'), (['Chao'], 'despedida'), (['Hasta', 'la', 'vista'], 'despedida'), (['Nos', 'vemos'], 'despedida'), (['Gracias'], 'agradecimiento'), (['Muchas', 'gracias'], 'agradecimiento'), (['Te', 'lo', 'agradezco'], 'agradecimiento'), ([], 'sin-respuesta'), (['Nada', 'en', 'particular'], 'respuesta-neutral'), (['Nada', 'nuevo'], 'respuesta-neutral'), (['¿Quién', 'eres', '?'], 'acerca'), (['¿Qué', 'eres', '?'], 'acerca'), (['¿Quién', 'eres', 'tú', '?'], 'acerca'), (['Cuéntame', 'más', 'sobre', 'ti', 'mismo', '.'], 'acerca'), (['¿Cuál', 'es', 'tu', 'nombre', '?'], 'acerca'), (['¿Cómo', 'debo', 'llamarte', '?'], 'acerca'), (['¿Cómo', 'te', 'llamas', '?'], 'acerca'), (['Háblame', 'sobre', 'ti'], 'acerca'), (['¿Qué', 'puedes', 'hacer', '?'], 'habilidad'), (['¿Quién', 'te', 'creó', '?'], 'creación'), (['¿Cómo', 'fuiste', 'hecho', '?'], 'creación'), (['¿Cómo', 'fuiste', 'creado', '?'], 'creación'), (['¿Quien', 'es', 'tu', 'creador', '?'], 'creación'), (['Mi', 'nombre', 'es'], 'nombre'), (['Me', 'llamo'], 'nombre'), (['Puedes', 'llamarme'], 'nombre'), (['¿Podrías', 'ayudarme', '?'], 'ayuda'), (['Por', 'favor', ',', 'dame', 'una', 'mano'], 'ayuda'), (['¿Puedes', 'ayudarme', '?'], 'ayuda'), (['¿Qué', 'puedes', 'hacer', 'por', 'mí', '?'], 'ayuda'), (['Necesito', 'apoyo'], 'ayuda'), (['Necesito', 'ayuda'], 'ayuda'), (['Apóyame', 'por', 'favor'], 'ayuda'), (['Me', 'siento', 'solo'], 'triste'), (['Estoy', 'tan', 'solo'], 'triste'), (['Me', 'siento', 'mal'], 'triste'), (['Me', 'siento', 'triste'], 'triste'), (['Estoy', 'triste'], 'triste'), (['Me', 'siento', 'tan', 'solo'], 'triste'), (['Me', 'siento', 'vacío'], 'triste'), (['No', 'tengo', 'a', 'nadie'], 'triste'), (['Oh', 'ya', 'veo', '.'], 'casual'), (['ok'], 'casual'), (['de', 'acuerdo'], 'casual'), (['bien'], 'casual'), (['lo', 'que', 'sea'], 'casual'), (['K'], 'casual'), (['bien'], 'casual'), (['sí'], 'casual'), (['sí'], 'casual'), (['no'], 'casual'), (['no', 'realmente'], 'casual'), (['Me', 'siento', 'muy', 'ansioso', '.'], 'ansioso'), (['Estoy', 'muy', 'ansioso', 'por', 'causa', 'de'], 'ansioso'), (['No', 'quiero', 'hablar', 'de', 'eso', '.'], 'no-hablar'), (['No', 'te', 'acerques', '.'], 'no-hablar'), (['No', 'puedo', 'abrirme', '.'], 'no-hablar'), (['Solo', 'cállate'], 'no-hablar'), (['Tengo', 'insomnio'], 'sueño'), (['Estoy', 'sufriendo', 'de', 'insomnio'], 'sueño'), (['No', 'puedo', 'dormir', '.'], 'sueño'), (['No', 'he', 'dormido', 'en', 'los', 'últimos', 'días', '.'], 'sueño'), (['No', 'puedo', 'conciliar', 'el', 'sueño', '.'], 'sueño'), (['No', 'he', 'tenido', 'un', 'sueño', 'adecuado', 'en', 'los', 'últimos', 'días', '.'], 'sueño'), (['Tengo', 'miedo'], 'asustado'), (['Eso', 'suena', 'terrible', '.', '¿Qué', 'hago', '?'], 'asustado'), (['No', ',', 'no', 'quiero', 'sentirme', 'así'], 'asustado'), (['Tengo', 'miedo', 'por', 'mí', 'mismo'], 'asustado'), (['Mi', 'mamá', 'murió'], 'muerte'), (['Mi', 'hermano', 'murió'], 'muerte'), (['Mi', 'papá', 'falleció'], 'muerte'), (['Mi', 'hermana', 'falleció'], 'muerte'), (['Alguien', 'de', 'mi', 'familia', 'murió'], 'muerte'), (['Mi', 'amigo', 'falleció'], 'muerte'), (['Me', 'siento', 'muy', 'ansioso', '.'], 'ansioso'), (['Estoy', 'muy', 'ansioso', 'por'], 'ansioso'), (['Eso', 'es', 'todo', '.'], 'fin'), (['No', 'tengo', 'nada', 'más', 'que', 'decir'], 'fin'), (['Nada', 'más'], 'fin'), (['Eso', 'es', 'todo', 'lo', 'que', 'tengo', 'que', 'decir'], 'fin'), (['No', ',', 'eso', 'sería', 'todo'], 'fin'), (['Te', 'odio'], 'te-odio'), (['No', 'me', 'gustas'], 'te-odio'), (['No', 'confío', 'en', 'ti'], 'te-odio'), (['Me', 'odias'], 'me-odio'), (['Sé', 'que', 'me', 'odias'], 'me-odio'), (['No', 'te', 'gusto'], 'me-odio'), (['Cuéntame', 'un', 'chiste'], 'chistes'), (['Dime', 'otro', 'chiste'], 'chistes'), (['Ya', 'me', 'lo', 'dijiste'], 'repetir'), (['Ya', 'lo', 'mencionaste'], 'repetir'), (['¿Por', 'qué', 'te', 'estás', 'repitiendo', '?'], 'repetir'), (['¿Qué', 'estás', 'diciendo', '?'], 'equivocado'), (['Eso', 'no', 'tiene', 'sentido'], 'equivocado'), (['Respuesta', 'incorrecta'], 'equivocado'), (['Respuesta', 'equivocada'], 'equivocado'), (['¿Eres', 'estúpido', '?'], 'estúpido'), (['Estás', 'loco'], 'estúpido'), (['Eres', 'tonto'], 'estúpido'), (['¿Eres', 'tonto', '?'], 'estúpido'), (['¿Dónde', 'estás', '?'], 'ubicación'), (['¿Dónde', 'vives', '?'], 'ubicación'), (['¿Cuál', 'es', 'tu', 'ubicación', '?'], 'ubicación'), (['Quiero', 'hablar', 'de', 'otra', 'cosa'], 'otra-cosa'), (['Hablemos', 'de', 'otra', 'cosa', '.'], 'otra-cosa'), (['¿Podemos', 'no', 'hablar', 'de', 'esto', '?'], 'otra-cosa'), (['No', 'quiero', 'hablar', 'de', 'esto', '.'], 'otra-cosa'), (['No', 'tengo', 'amigos'], 'amigos'), (['¿Puedo', 'preguntarte', 'algo', '?'], 'preguntar'), (['¿Qué', 'tipos', 'de', 'tumores', 'pueden', 'ser', 'detectados', '?'], 'tumores-detectados'), (['¿Qué', 'tumores', 'son', 'los', 'que', 'pueden', 'ser', 'identificados', '?'], 'tumores-detectados'), (['¿Cuáles', 'son', 'los', 'tipos', 'de', 'tumores', 'que', 'su', 'servicio', 'puede', 'detectar', '?'], 'tumores-detectados'), (['¿Cuáles', 'son', 'los', 'tipos', 'de', 'tumores', 'pituitarios', '?'], 'tipos-tumores-pituitarios'), (['¿Qué', 'categorías', 'existen', 'de', 'los', 'tumores', 'pituitarios', '?'], 'tipos-tumores-pituitarios'), (['¿Qué', 'tipos', 'de', 'hormonas', 'producen', 'los', 'adenomas', 'pituitarios', 'funcionales', '?'], 'tipos-tumores-pituitarios'), (['¿Qué', 'es', 'un', 'glioma', '?'], 'glioma'), (['¿Cuáles', 'son', 'los', 'síntomas', 'de', 'un', 'glioma', '?'], 'glioma'), (['¿Cómo', 'se', 'diagnostica', 'y', 'trata', 'un', 'glioma', '?'], 'glioma'), (['¿Qué', 'es', 'un', 'meningioma', '?'], 'meningiomas'), (['¿Cuáles', 'son', 'los', 'efectos', 'de', 'un', 'meningioma', 'en', 'el', 'cerebro', '?'], 'meningiomas'), (['¿Cómo', 'se', 'descubre', 'un', 'meningioma', '?'], 'meningiomas'), (['¿Cuál', 'es', 'el', 'tratamiento', 'para', 'un', 'meningioma', '?'], 'meningiomas')] \n",
            "\n",
            "230 Palabras lematizadas únicas\n",
            " [',', '.', 'a', 'abrirme', 'acerques', 'acuerdo', 'adecuado', 'adenoma', 'adiós', 'agradecido', 'agradezco', 'algo', 'alguien', 'amigo', 'ansioso', 'apoyo', 'apóyame', 'así', 'ayuda', 'ayudarme', 'bien', 'buenas', 'buenos', 'categorías', 'causa', 'cerebro', 'chao', 'chiste', 'cita', 'cnn', 'conciliar', 'confío', 'consulta', 'cosa', 'creado', 'creador', 'creó', 'cuesta', 'cuéntame', 'cállate', 'dame', 'de', 'debo', 'decir', 'descubre', 'detección', 'detectados', 'detectan', 'detectar', 'diagnostica', 'diciendo', 'dijiste', 'dime', 'dormido', 'dormir', 'días', 'e', 'efectos', 'el', 'empresa', 'en', 'equivocada', 'eres', 'eso', 'especializa', 'esto', 'estoy', 'estás', 'estúpido', 'existen', 'falleció', 'familia', 'favor', 'fuiste', 'funciona', 'funcionales', 'glioma', 'gracias', 'gustas', 'gusto', 'hablar', 'hablemos', 'hace', 'hacer', 'hago', 'hasta', 'he', 'hecho', 'hermana', 'hermano', 'hola', 'hormonas', 'háblame', 'identificados', 'imágenes', 'incorrecta', 'insomnio', 'k', 'la', 'llama', 'llamarme', 'llamarte', 'llamo', 'lo', 'loco', 'los', 'luego', 'magnética', 'mal', 'mamá', 'mano', 'me', 'mediante', 'mencionaste', 'meningioma', 'mi', 'miedo', 'mismo', 'muchas', 'murió', 'muy', 'más', 'mí', 'nada', 'nadie', 'necesito', 'no', 'noches', 'nombre', 'nuevo', 'odias', 'odio', 'ofrecen', 'oh', 'ok', 'otra', 'otro', 'papá', 'para', 'particular', 'pituitarios', 'por', 'preguntarte', 'procedimiento', 'proceso', 'producen', 'programar', 'pronto', 'pruebas', 'puede', 'pueden', 'puedes', 'puedo', 'que', 'quiero', 'qué', 'realiza', 'realmente', 'repitiendo', 'resonancia', 'respuesta', 'se', 'sea', 'sentido', 'sentirme', 'ser', 'servicio', 'servicios', 'sería', 'siento', 'sigue', 'sobre', 'solo', 'son', 'su', 'suena', 'sueño', 'sufriendo', 'sé', 'sí', 'síntomas', 'tan', 'tardes', 'te', 'tengo', 'tenido', 'terrible', 'ti', 'tiene', 'tipo', 'tipos', 'todo', 'tonto', 'trata', 'tratamiento', 'triste', 'tu', 'tumores', 'tú', 'ubicación', 'un', 'una', 'vacío', 'vemos', 'veo', 'vista', 'vives', 'y', 'ya', '¡chao', '¡estoy', '¡genial', '¡hola', '¡nos', '¿cuál', '¿cuáles', '¿cuánto', '¿cómo', '¿dónde', '¿en', '¿eres', '¿podemos', '¿podrías', '¿por', '¿puedes', '¿puedo', '¿quien', '¿quién', '¿qué', 'últimos'] \n",
            "\n"
          ]
        }
      ]
    },
    {
      "cell_type": "markdown",
      "source": [
        "La función create_training_data toma cuatro argumentos: documents, words, classes, y lemmatizer. La función crea datos de entrenamiento para el modelo de chatbot a partir de los documentos, las palabras, las clases y el lematizador proporcionados.\n",
        "\n",
        "La función comienza inicializando una lista vacía training para almacenar los datos de entrenamiento creados. También crea una lista output_empty de longitud igual a la cantidad de clases. Esta lista se usa para crear la variable de salida de cada documento.\n",
        "\n",
        "La función itera sobre los documentos proporcionados y procesa cada documento de la siguiente manera:\n",
        "\n",
        "Crea una lista bag que representa una bolsa de palabras para el documento. La bolsa de palabras es una lista binaria que indica qué palabras del vocabulario están presentes en el documento.\n",
        "\n",
        "Lematiza cada palabra en el documento y las convierte a minúsculas.\n",
        "\n",
        "Para cada palabra en el vocabulario, agrega un 1 a la bolsa de palabras si la palabra está presente en el documento y un 0 si no lo está.\n",
        "\n",
        "Crea una lista output_row que representa la variable de salida del documento. Esta lista es una lista binaria que indica la clase del documento.\n",
        "\n",
        "Agrega la bolsa de palabras y la variable de salida del documento a la lista de entrenamiento.\n",
        "\n",
        "Después de crear la lista de entrenamiento, la función la mezcla aleatoriamente, la convierte en un array de NumPy y divide los datos de entrada y salida en dos listas separadas train_x y train_y.\n",
        "\n",
        "Finalmente, el código llama a la función create_training_data con los argumentos necesarios y muestra un mensaje indicando que los datos de entrenamiento han sido creados."
      ],
      "metadata": {
        "id": "13EOR1YLO0mz"
      }
    },
    {
      "cell_type": "code",
      "source": [
        "def create_training_data(documents, words, classes, lemmatizer):\n",
        "    training = []\n",
        "    output_empty = [0] * len(classes)\n",
        "\n",
        "    for doc in documents:\n",
        "        bag = []\n",
        "        pattern_words = doc[0]\n",
        "        pattern_words = [lemmatizer.lemmatize(word.lower()) for word in pattern_words]\n",
        "\n",
        "        for w in words:\n",
        "            bag.append(1) if w in pattern_words else bag.append(0)\n",
        "        \n",
        "        output_row = list(output_empty)\n",
        "        output_row[classes.index(doc[1])] = 1\n",
        "        \n",
        "        training.append([bag, output_row])\n",
        "\n",
        "    random.shuffle(training)\n",
        "    training = np.array(training)\n",
        "\n",
        "    train_x = list(training[:,0])\n",
        "    train_y = list(training[:,1])\n",
        "\n",
        "    return train_x, train_y\n",
        "\n",
        "train_x, train_y = create_training_data(documents, words, classes, lemmatizer)\n",
        "print(\"Datos de entrenamiento creados\")"
      ],
      "metadata": {
        "colab": {
          "base_uri": "https://localhost:8080/"
        },
        "id": "2Efhamb-Lyzx",
        "outputId": "afd3f8cd-7711-4039-f5b7-be8f351d6d69"
      },
      "execution_count": 8,
      "outputs": [
        {
          "output_type": "stream",
          "name": "stdout",
          "text": [
            "Datos de entrenamiento creados\n"
          ]
        }
      ]
    },
    {
      "cell_type": "markdown",
      "source": [
        "Definimos una función llamada build_model que recibe train_x y train_y como argumentos y crea un modelo secuencial de red neuronal con tres capas.\n",
        "\n",
        "> Bloque con sangría\n",
        "\n",
        "\n",
        "\n",
        "La primera capa tiene 128 neuronas y utiliza la función de activación ReLU. \n",
        "\n",
        "La segunda capa tiene 64 neuronas y también utiliza la función de activación ReLU. \n",
        "\n",
        "La tercera y última capa tiene un número de neuronas igual al número de intenciones en train_y, y utiliza la función de activación softmax para predecir la intención de salida. \n",
        "\n",
        "El modelo también utiliza la técnica de regularización Dropout para evitar el overfitting.\n",
        "\n",
        "\n",
        "\n",
        "\n"
      ],
      "metadata": {
        "id": "1ZYvZezBR3eN"
      }
    },
    {
      "cell_type": "code",
      "source": [
        "def build_model():\n",
        "    # Crear modelo con 3 capas. La primera capa tiene 128 neuronas, la segunda capa tiene 64 neuronas y la ultima capa de salida contiene un número de neuronas\n",
        "    # igual al número de intenciones para predecir la intención de salida con softmax\n",
        "    model = Sequential()\n",
        "\n",
        "    model.add(Dense(128, \n",
        "                    input_shape=(len(train_x[0]),), \n",
        "                    activation='relu'))\n",
        "    \n",
        "    model.add(Dropout(0.5))\n",
        "\n",
        "    model.add(Dense(64, \n",
        "                    activation='relu'))\n",
        "    \n",
        "    model.add(Dropout(0.5))\n",
        "    \n",
        "    model.add(Dense(len(train_y[0]), \n",
        "                    activation='softmax'))\n",
        "    \n",
        "    return model\n",
        "\n",
        "model = build_model()\n",
        "model.summary()"
      ],
      "metadata": {
        "colab": {
          "base_uri": "https://localhost:8080/"
        },
        "id": "3LaNk--TMS47",
        "outputId": "0feeea8e-5d70-4686-926f-da7860d97376"
      },
      "execution_count": 9,
      "outputs": [
        {
          "output_type": "stream",
          "name": "stdout",
          "text": [
            "Model: \"sequential\"\n",
            "_________________________________________________________________\n",
            " Layer (type)                Output Shape              Param #   \n",
            "=================================================================\n",
            " dense (Dense)               (None, 128)               29568     \n",
            "                                                                 \n",
            " dropout (Dropout)           (None, 128)               0         \n",
            "                                                                 \n",
            " dense_1 (Dense)             (None, 64)                8256      \n",
            "                                                                 \n",
            " dropout_1 (Dropout)         (None, 64)                0         \n",
            "                                                                 \n",
            " dense_2 (Dense)             (None, 38)                2470      \n",
            "                                                                 \n",
            "=================================================================\n",
            "Total params: 40,294\n",
            "Trainable params: 40,294\n",
            "Non-trainable params: 0\n",
            "_________________________________________________________________\n"
          ]
        }
      ]
    },
    {
      "cell_type": "markdown",
      "source": [
        "Definimos una función Model_fit que toma dos argumentos train_x y train_y que corresponden a los datos de entrenamiento creados previamente. La función entrena un modelo de red neuronal y guarda el modelo entrenado en un archivo \"chatbot_model.h5\". La función también devuelve el history de entrenamiento del modelo.\n",
        "\n",
        "El código comienza llamando a la función build_model() para crear una nueva instancia del modelo de red neuronal. A continuación, se compila el modelo con el optimizador Adam y la función de pérdida de entropía cruzada categórica. El modelo se entrena utilizando los datos de entrenamiento proporcionados y se ejecutan 300 épocas con un tamaño de lote de 5.\n",
        "\n",
        "Después del entrenamiento, el modelo se guarda en un archivo \"chatbot_model.h5\" utilizando el método save() de Keras. Se muestra un mensaje indicando que el modelo se ha creado y guardado. Finalmente, la función devuelve el historial de entrenamiento del modelo.\n",
        "\n",
        "En resumen, este código entrena un modelo de red neuronal utilizando los datos de entrenamiento proporcionados y guarda el modelo entrenado en un archivo."
      ],
      "metadata": {
        "id": "grUevBz7TSFx"
      }
    },
    {
      "cell_type": "code",
      "source": [
        "def Model_fit(train_x, train_y):\n",
        "  model = _model()\n",
        "  model.compile(loss='categorical_crossentropy', \n",
        "                optimizer='adam', \n",
        "                metrics=['acc'])\n",
        "  history = model.fit(np.array(train_x), \n",
        "                      np.array(train_y), \n",
        "                      epochs=300, \n",
        "                      batch_size=5)\n",
        "  model.save(\"chatbot_model.h5\")\n",
        "  print(\"Modelo creado y guardado como chatbot_model.h5\")\n",
        "  return history\n",
        "\n",
        "history = Model_fit(train_x, train_y)"
      ],
      "metadata": {
        "colab": {
          "base_uri": "https://localhost:8080/"
        },
        "id": "ekLzg_6bMevC",
        "outputId": "b9c2f9b1-42db-4a36-bb89-facd6d203d4d"
      },
      "execution_count": 12,
      "outputs": [
        {
          "output_type": "stream",
          "name": "stdout",
          "text": [
            "Epoch 1/300\n",
            "31/31 [==============================] - 1s 2ms/step - loss: 3.6184 - acc: 0.0263\n",
            "Epoch 2/300\n",
            "31/31 [==============================] - 0s 2ms/step - loss: 3.5759 - acc: 0.0789\n",
            "Epoch 3/300\n",
            "31/31 [==============================] - 0s 2ms/step - loss: 3.5141 - acc: 0.1184\n",
            "Epoch 4/300\n",
            "31/31 [==============================] - 0s 2ms/step - loss: 3.4540 - acc: 0.1316\n",
            "Epoch 5/300\n",
            "31/31 [==============================] - 0s 2ms/step - loss: 3.3712 - acc: 0.1250\n",
            "Epoch 6/300\n",
            "31/31 [==============================] - 0s 2ms/step - loss: 3.2514 - acc: 0.1908\n",
            "Epoch 7/300\n",
            "31/31 [==============================] - 0s 2ms/step - loss: 3.1831 - acc: 0.2237\n",
            "Epoch 8/300\n",
            "31/31 [==============================] - 0s 2ms/step - loss: 3.0445 - acc: 0.1908\n",
            "Epoch 9/300\n",
            "31/31 [==============================] - 0s 2ms/step - loss: 2.9170 - acc: 0.2763\n",
            "Epoch 10/300\n",
            "31/31 [==============================] - 0s 2ms/step - loss: 2.8298 - acc: 0.2566\n",
            "Epoch 11/300\n",
            "31/31 [==============================] - 0s 3ms/step - loss: 2.6088 - acc: 0.3882\n",
            "Epoch 12/300\n",
            "31/31 [==============================] - 0s 2ms/step - loss: 2.4847 - acc: 0.4211\n",
            "Epoch 13/300\n",
            "31/31 [==============================] - 0s 2ms/step - loss: 2.3691 - acc: 0.4539\n",
            "Epoch 14/300\n",
            "31/31 [==============================] - 0s 2ms/step - loss: 2.3083 - acc: 0.4408\n",
            "Epoch 15/300\n",
            "31/31 [==============================] - 0s 2ms/step - loss: 2.1539 - acc: 0.5066\n",
            "Epoch 16/300\n",
            "31/31 [==============================] - 0s 2ms/step - loss: 2.0079 - acc: 0.5789\n",
            "Epoch 17/300\n",
            "31/31 [==============================] - 0s 2ms/step - loss: 1.9691 - acc: 0.4934\n",
            "Epoch 18/300\n",
            "31/31 [==============================] - 0s 2ms/step - loss: 1.7802 - acc: 0.5329\n",
            "Epoch 19/300\n",
            "31/31 [==============================] - 0s 2ms/step - loss: 1.6909 - acc: 0.6184\n",
            "Epoch 20/300\n",
            "31/31 [==============================] - 0s 2ms/step - loss: 1.6284 - acc: 0.6250\n",
            "Epoch 21/300\n",
            "31/31 [==============================] - 0s 1ms/step - loss: 1.6363 - acc: 0.5855\n",
            "Epoch 22/300\n",
            "31/31 [==============================] - 0s 2ms/step - loss: 1.4741 - acc: 0.6579\n",
            "Epoch 23/300\n",
            "31/31 [==============================] - 0s 2ms/step - loss: 1.3416 - acc: 0.6645\n",
            "Epoch 24/300\n",
            "31/31 [==============================] - 0s 1ms/step - loss: 1.3968 - acc: 0.6579\n",
            "Epoch 25/300\n",
            "31/31 [==============================] - 0s 1ms/step - loss: 1.2794 - acc: 0.7171\n",
            "Epoch 26/300\n",
            "31/31 [==============================] - 0s 1ms/step - loss: 1.2009 - acc: 0.6908\n",
            "Epoch 27/300\n",
            "31/31 [==============================] - 0s 2ms/step - loss: 1.0579 - acc: 0.7632\n",
            "Epoch 28/300\n",
            "31/31 [==============================] - 0s 2ms/step - loss: 1.0760 - acc: 0.7368\n",
            "Epoch 29/300\n",
            "31/31 [==============================] - 0s 1ms/step - loss: 1.0608 - acc: 0.7434\n",
            "Epoch 30/300\n",
            "31/31 [==============================] - 0s 2ms/step - loss: 0.9988 - acc: 0.7829\n",
            "Epoch 31/300\n",
            "31/31 [==============================] - 0s 2ms/step - loss: 0.9380 - acc: 0.7895\n",
            "Epoch 32/300\n",
            "31/31 [==============================] - 0s 2ms/step - loss: 0.9990 - acc: 0.7237\n",
            "Epoch 33/300\n",
            "31/31 [==============================] - 0s 1ms/step - loss: 0.9402 - acc: 0.7566\n",
            "Epoch 34/300\n",
            "31/31 [==============================] - 0s 1ms/step - loss: 0.8579 - acc: 0.7763\n",
            "Epoch 35/300\n",
            "31/31 [==============================] - 0s 1ms/step - loss: 0.7802 - acc: 0.8421\n",
            "Epoch 36/300\n",
            "31/31 [==============================] - 0s 1ms/step - loss: 0.7992 - acc: 0.8026\n",
            "Epoch 37/300\n",
            "31/31 [==============================] - 0s 2ms/step - loss: 0.7270 - acc: 0.8487\n",
            "Epoch 38/300\n",
            "31/31 [==============================] - 0s 2ms/step - loss: 0.8299 - acc: 0.7566\n",
            "Epoch 39/300\n",
            "31/31 [==============================] - 0s 2ms/step - loss: 0.7830 - acc: 0.8026\n",
            "Epoch 40/300\n",
            "31/31 [==============================] - 0s 2ms/step - loss: 0.7392 - acc: 0.7829\n",
            "Epoch 41/300\n",
            "31/31 [==============================] - 0s 2ms/step - loss: 0.7379 - acc: 0.8289\n",
            "Epoch 42/300\n",
            "31/31 [==============================] - 0s 1ms/step - loss: 0.7099 - acc: 0.8355\n",
            "Epoch 43/300\n",
            "31/31 [==============================] - 0s 2ms/step - loss: 0.6428 - acc: 0.8487\n",
            "Epoch 44/300\n",
            "31/31 [==============================] - 0s 1ms/step - loss: 0.6504 - acc: 0.8355\n",
            "Epoch 45/300\n",
            "31/31 [==============================] - 0s 1ms/step - loss: 0.6518 - acc: 0.8224\n",
            "Epoch 46/300\n",
            "31/31 [==============================] - 0s 2ms/step - loss: 0.4954 - acc: 0.9079\n",
            "Epoch 47/300\n",
            "31/31 [==============================] - 0s 1ms/step - loss: 0.6119 - acc: 0.8289\n",
            "Epoch 48/300\n",
            "31/31 [==============================] - 0s 2ms/step - loss: 0.6679 - acc: 0.8092\n",
            "Epoch 49/300\n",
            "31/31 [==============================] - 0s 2ms/step - loss: 0.5212 - acc: 0.8618\n",
            "Epoch 50/300\n",
            "31/31 [==============================] - 0s 1ms/step - loss: 0.5355 - acc: 0.8684\n",
            "Epoch 51/300\n",
            "31/31 [==============================] - 0s 2ms/step - loss: 0.5203 - acc: 0.8618\n",
            "Epoch 52/300\n",
            "31/31 [==============================] - 0s 1ms/step - loss: 0.4398 - acc: 0.8816\n",
            "Epoch 53/300\n",
            "31/31 [==============================] - 0s 2ms/step - loss: 0.4840 - acc: 0.8618\n",
            "Epoch 54/300\n",
            "31/31 [==============================] - 0s 2ms/step - loss: 0.4321 - acc: 0.8618\n",
            "Epoch 55/300\n",
            "31/31 [==============================] - 0s 2ms/step - loss: 0.5123 - acc: 0.8355\n",
            "Epoch 56/300\n",
            "31/31 [==============================] - 0s 2ms/step - loss: 0.4553 - acc: 0.8750\n",
            "Epoch 57/300\n",
            "31/31 [==============================] - 0s 2ms/step - loss: 0.4326 - acc: 0.8882\n",
            "Epoch 58/300\n",
            "31/31 [==============================] - 0s 1ms/step - loss: 0.3650 - acc: 0.9013\n",
            "Epoch 59/300\n",
            "31/31 [==============================] - 0s 1ms/step - loss: 0.4725 - acc: 0.8684\n",
            "Epoch 60/300\n",
            "31/31 [==============================] - 0s 2ms/step - loss: 0.5393 - acc: 0.8750\n",
            "Epoch 61/300\n",
            "31/31 [==============================] - 0s 2ms/step - loss: 0.3814 - acc: 0.9013\n",
            "Epoch 62/300\n",
            "31/31 [==============================] - 0s 2ms/step - loss: 0.4299 - acc: 0.8882\n",
            "Epoch 63/300\n",
            "31/31 [==============================] - 0s 1ms/step - loss: 0.3328 - acc: 0.9079\n",
            "Epoch 64/300\n",
            "31/31 [==============================] - 0s 1ms/step - loss: 0.3525 - acc: 0.8947\n",
            "Epoch 65/300\n",
            "31/31 [==============================] - 0s 1ms/step - loss: 0.3669 - acc: 0.8947\n",
            "Epoch 66/300\n",
            "31/31 [==============================] - 0s 1ms/step - loss: 0.2911 - acc: 0.9342\n",
            "Epoch 67/300\n",
            "31/31 [==============================] - 0s 2ms/step - loss: 0.3377 - acc: 0.9145\n",
            "Epoch 68/300\n",
            "31/31 [==============================] - 0s 1ms/step - loss: 0.3903 - acc: 0.8618\n",
            "Epoch 69/300\n",
            "31/31 [==============================] - 0s 1ms/step - loss: 0.3881 - acc: 0.8882\n",
            "Epoch 70/300\n",
            "31/31 [==============================] - 0s 1ms/step - loss: 0.4085 - acc: 0.8882\n",
            "Epoch 71/300\n",
            "31/31 [==============================] - 0s 1ms/step - loss: 0.3395 - acc: 0.9145\n",
            "Epoch 72/300\n",
            "31/31 [==============================] - 0s 1ms/step - loss: 0.3027 - acc: 0.9342\n",
            "Epoch 73/300\n",
            "31/31 [==============================] - 0s 2ms/step - loss: 0.2808 - acc: 0.9276\n",
            "Epoch 74/300\n",
            "31/31 [==============================] - 0s 2ms/step - loss: 0.3315 - acc: 0.9079\n",
            "Epoch 75/300\n",
            "31/31 [==============================] - 0s 2ms/step - loss: 0.2953 - acc: 0.9342\n",
            "Epoch 76/300\n",
            "31/31 [==============================] - 0s 2ms/step - loss: 0.2956 - acc: 0.9211\n",
            "Epoch 77/300\n",
            "31/31 [==============================] - 0s 1ms/step - loss: 0.2951 - acc: 0.9342\n",
            "Epoch 78/300\n",
            "31/31 [==============================] - 0s 1ms/step - loss: 0.2842 - acc: 0.8947\n",
            "Epoch 79/300\n",
            "31/31 [==============================] - 0s 2ms/step - loss: 0.3313 - acc: 0.9276\n",
            "Epoch 80/300\n",
            "31/31 [==============================] - 0s 2ms/step - loss: 0.3052 - acc: 0.9145\n",
            "Epoch 81/300\n",
            "31/31 [==============================] - 0s 2ms/step - loss: 0.2995 - acc: 0.9474\n",
            "Epoch 82/300\n",
            "31/31 [==============================] - 0s 2ms/step - loss: 0.3023 - acc: 0.9211\n",
            "Epoch 83/300\n",
            "31/31 [==============================] - 0s 2ms/step - loss: 0.2987 - acc: 0.9276\n",
            "Epoch 84/300\n",
            "31/31 [==============================] - 0s 2ms/step - loss: 0.2479 - acc: 0.9276\n",
            "Epoch 85/300\n",
            "31/31 [==============================] - 0s 2ms/step - loss: 0.3058 - acc: 0.9145\n",
            "Epoch 86/300\n",
            "31/31 [==============================] - 0s 1ms/step - loss: 0.2452 - acc: 0.9474\n",
            "Epoch 87/300\n",
            "31/31 [==============================] - 0s 2ms/step - loss: 0.3417 - acc: 0.9145\n",
            "Epoch 88/300\n",
            "31/31 [==============================] - 0s 1ms/step - loss: 0.2303 - acc: 0.9211\n",
            "Epoch 89/300\n",
            "31/31 [==============================] - 0s 2ms/step - loss: 0.2114 - acc: 0.9276\n",
            "Epoch 90/300\n",
            "31/31 [==============================] - 0s 1ms/step - loss: 0.1951 - acc: 0.9671\n",
            "Epoch 91/300\n",
            "31/31 [==============================] - 0s 1ms/step - loss: 0.2931 - acc: 0.9211\n",
            "Epoch 92/300\n",
            "31/31 [==============================] - 0s 2ms/step - loss: 0.2204 - acc: 0.9474\n",
            "Epoch 93/300\n",
            "31/31 [==============================] - 0s 2ms/step - loss: 0.2451 - acc: 0.9342\n",
            "Epoch 94/300\n",
            "31/31 [==============================] - 0s 2ms/step - loss: 0.2546 - acc: 0.9145\n",
            "Epoch 95/300\n",
            "31/31 [==============================] - 0s 1ms/step - loss: 0.2027 - acc: 0.9342\n",
            "Epoch 96/300\n",
            "31/31 [==============================] - 0s 2ms/step - loss: 0.2511 - acc: 0.9276\n",
            "Epoch 97/300\n",
            "31/31 [==============================] - 0s 2ms/step - loss: 0.2106 - acc: 0.9474\n",
            "Epoch 98/300\n",
            "31/31 [==============================] - 0s 2ms/step - loss: 0.2262 - acc: 0.9276\n",
            "Epoch 99/300\n",
            "31/31 [==============================] - 0s 2ms/step - loss: 0.2699 - acc: 0.9013\n",
            "Epoch 100/300\n",
            "31/31 [==============================] - 0s 1ms/step - loss: 0.2515 - acc: 0.9079\n",
            "Epoch 101/300\n",
            "31/31 [==============================] - 0s 1ms/step - loss: 0.2119 - acc: 0.9408\n",
            "Epoch 102/300\n",
            "31/31 [==============================] - 0s 2ms/step - loss: 0.2137 - acc: 0.9342\n",
            "Epoch 103/300\n",
            "31/31 [==============================] - 0s 1ms/step - loss: 0.1813 - acc: 0.9737\n",
            "Epoch 104/300\n",
            "31/31 [==============================] - 0s 2ms/step - loss: 0.2116 - acc: 0.9211\n",
            "Epoch 105/300\n",
            "31/31 [==============================] - 0s 1ms/step - loss: 0.2248 - acc: 0.9276\n",
            "Epoch 106/300\n",
            "31/31 [==============================] - 0s 1ms/step - loss: 0.2059 - acc: 0.9211\n",
            "Epoch 107/300\n",
            "31/31 [==============================] - 0s 1ms/step - loss: 0.2182 - acc: 0.9276\n",
            "Epoch 108/300\n",
            "31/31 [==============================] - 0s 1ms/step - loss: 0.2331 - acc: 0.9079\n",
            "Epoch 109/300\n",
            "31/31 [==============================] - 0s 1ms/step - loss: 0.1883 - acc: 0.9276\n",
            "Epoch 110/300\n",
            "31/31 [==============================] - 0s 2ms/step - loss: 0.1814 - acc: 0.9539\n",
            "Epoch 111/300\n",
            "31/31 [==============================] - 0s 2ms/step - loss: 0.2440 - acc: 0.9145\n",
            "Epoch 112/300\n",
            "31/31 [==============================] - 0s 2ms/step - loss: 0.1383 - acc: 0.9539\n",
            "Epoch 113/300\n",
            "31/31 [==============================] - 0s 2ms/step - loss: 0.2335 - acc: 0.9211\n",
            "Epoch 114/300\n",
            "31/31 [==============================] - 0s 1ms/step - loss: 0.1994 - acc: 0.9342\n",
            "Epoch 115/300\n",
            "31/31 [==============================] - 0s 2ms/step - loss: 0.2078 - acc: 0.9342\n",
            "Epoch 116/300\n",
            "31/31 [==============================] - 0s 2ms/step - loss: 0.2234 - acc: 0.9145\n",
            "Epoch 117/300\n",
            "31/31 [==============================] - 0s 2ms/step - loss: 0.1994 - acc: 0.9539\n",
            "Epoch 118/300\n",
            "31/31 [==============================] - 0s 2ms/step - loss: 0.1690 - acc: 0.9342\n",
            "Epoch 119/300\n",
            "31/31 [==============================] - 0s 2ms/step - loss: 0.2399 - acc: 0.9408\n",
            "Epoch 120/300\n",
            "31/31 [==============================] - 0s 1ms/step - loss: 0.1851 - acc: 0.9539\n",
            "Epoch 121/300\n",
            "31/31 [==============================] - 0s 1ms/step - loss: 0.1919 - acc: 0.9342\n",
            "Epoch 122/300\n",
            "31/31 [==============================] - 0s 1ms/step - loss: 0.2039 - acc: 0.9342\n",
            "Epoch 123/300\n",
            "31/31 [==============================] - 0s 1ms/step - loss: 0.1790 - acc: 0.9539\n",
            "Epoch 124/300\n",
            "31/31 [==============================] - 0s 2ms/step - loss: 0.1829 - acc: 0.9408\n",
            "Epoch 125/300\n",
            "31/31 [==============================] - 0s 2ms/step - loss: 0.1343 - acc: 0.9737\n",
            "Epoch 126/300\n",
            "31/31 [==============================] - 0s 2ms/step - loss: 0.1879 - acc: 0.9276\n",
            "Epoch 127/300\n",
            "31/31 [==============================] - 0s 1ms/step - loss: 0.1941 - acc: 0.9474\n",
            "Epoch 128/300\n",
            "31/31 [==============================] - 0s 2ms/step - loss: 0.1619 - acc: 0.9539\n",
            "Epoch 129/300\n",
            "31/31 [==============================] - 0s 1ms/step - loss: 0.1516 - acc: 0.9671\n",
            "Epoch 130/300\n",
            "31/31 [==============================] - 0s 2ms/step - loss: 0.2104 - acc: 0.9211\n",
            "Epoch 131/300\n",
            "31/31 [==============================] - 0s 2ms/step - loss: 0.2697 - acc: 0.9013\n",
            "Epoch 132/300\n",
            "31/31 [==============================] - 0s 1ms/step - loss: 0.1602 - acc: 0.9539\n",
            "Epoch 133/300\n",
            "31/31 [==============================] - 0s 2ms/step - loss: 0.1294 - acc: 0.9868\n",
            "Epoch 134/300\n",
            "31/31 [==============================] - 0s 2ms/step - loss: 0.1171 - acc: 0.9671\n",
            "Epoch 135/300\n",
            "31/31 [==============================] - 0s 2ms/step - loss: 0.1235 - acc: 0.9605\n",
            "Epoch 136/300\n",
            "31/31 [==============================] - 0s 2ms/step - loss: 0.1392 - acc: 0.9671\n",
            "Epoch 137/300\n",
            "31/31 [==============================] - 0s 1ms/step - loss: 0.2014 - acc: 0.9211\n",
            "Epoch 138/300\n",
            "31/31 [==============================] - 0s 1ms/step - loss: 0.1424 - acc: 0.9539\n",
            "Epoch 139/300\n",
            "31/31 [==============================] - 0s 2ms/step - loss: 0.1379 - acc: 0.9605\n",
            "Epoch 140/300\n",
            "31/31 [==============================] - 0s 1ms/step - loss: 0.1458 - acc: 0.9671\n",
            "Epoch 141/300\n",
            "31/31 [==============================] - 0s 1ms/step - loss: 0.1913 - acc: 0.9211\n",
            "Epoch 142/300\n",
            "31/31 [==============================] - 0s 1ms/step - loss: 0.1428 - acc: 0.9539\n",
            "Epoch 143/300\n",
            "31/31 [==============================] - 0s 1ms/step - loss: 0.1886 - acc: 0.9342\n",
            "Epoch 144/300\n",
            "31/31 [==============================] - 0s 2ms/step - loss: 0.1598 - acc: 0.9539\n",
            "Epoch 145/300\n",
            "31/31 [==============================] - 0s 1ms/step - loss: 0.1482 - acc: 0.9474\n",
            "Epoch 146/300\n",
            "31/31 [==============================] - 0s 1ms/step - loss: 0.1272 - acc: 0.9803\n",
            "Epoch 147/300\n",
            "31/31 [==============================] - 0s 1ms/step - loss: 0.1661 - acc: 0.9342\n",
            "Epoch 148/300\n",
            "31/31 [==============================] - 0s 2ms/step - loss: 0.1626 - acc: 0.9474\n",
            "Epoch 149/300\n",
            "31/31 [==============================] - 0s 1ms/step - loss: 0.1845 - acc: 0.9342\n",
            "Epoch 150/300\n",
            "31/31 [==============================] - 0s 1ms/step - loss: 0.1122 - acc: 0.9539\n",
            "Epoch 151/300\n",
            "31/31 [==============================] - 0s 2ms/step - loss: 0.1870 - acc: 0.9539\n",
            "Epoch 152/300\n",
            "31/31 [==============================] - 0s 1ms/step - loss: 0.1784 - acc: 0.9408\n",
            "Epoch 153/300\n",
            "31/31 [==============================] - 0s 1ms/step - loss: 0.1340 - acc: 0.9803\n",
            "Epoch 154/300\n",
            "31/31 [==============================] - 0s 1ms/step - loss: 0.1272 - acc: 0.9605\n",
            "Epoch 155/300\n",
            "31/31 [==============================] - 0s 1ms/step - loss: 0.0828 - acc: 0.9803\n",
            "Epoch 156/300\n",
            "31/31 [==============================] - 0s 2ms/step - loss: 0.1684 - acc: 0.9474\n",
            "Epoch 157/300\n",
            "31/31 [==============================] - 0s 2ms/step - loss: 0.1770 - acc: 0.9408\n",
            "Epoch 158/300\n",
            "31/31 [==============================] - 0s 1ms/step - loss: 0.1507 - acc: 0.9671\n",
            "Epoch 159/300\n",
            "31/31 [==============================] - 0s 2ms/step - loss: 0.1147 - acc: 0.9671\n",
            "Epoch 160/300\n",
            "31/31 [==============================] - 0s 2ms/step - loss: 0.1707 - acc: 0.9408\n",
            "Epoch 161/300\n",
            "31/31 [==============================] - 0s 2ms/step - loss: 0.1288 - acc: 0.9539\n",
            "Epoch 162/300\n",
            "31/31 [==============================] - 0s 1ms/step - loss: 0.1764 - acc: 0.9211\n",
            "Epoch 163/300\n",
            "31/31 [==============================] - 0s 2ms/step - loss: 0.1729 - acc: 0.9474\n",
            "Epoch 164/300\n",
            "31/31 [==============================] - 0s 1ms/step - loss: 0.1974 - acc: 0.9276\n",
            "Epoch 165/300\n",
            "31/31 [==============================] - 0s 2ms/step - loss: 0.1596 - acc: 0.9276\n",
            "Epoch 166/300\n",
            "31/31 [==============================] - 0s 2ms/step - loss: 0.1157 - acc: 0.9671\n",
            "Epoch 167/300\n",
            "31/31 [==============================] - 0s 1ms/step - loss: 0.1344 - acc: 0.9539\n",
            "Epoch 168/300\n",
            "31/31 [==============================] - 0s 2ms/step - loss: 0.1285 - acc: 0.9803\n",
            "Epoch 169/300\n",
            "31/31 [==============================] - 0s 2ms/step - loss: 0.1331 - acc: 0.9671\n",
            "Epoch 170/300\n",
            "31/31 [==============================] - 0s 2ms/step - loss: 0.1251 - acc: 0.9539\n",
            "Epoch 171/300\n",
            "31/31 [==============================] - 0s 1ms/step - loss: 0.1373 - acc: 0.9408\n",
            "Epoch 172/300\n",
            "31/31 [==============================] - 0s 1ms/step - loss: 0.1269 - acc: 0.9605\n",
            "Epoch 173/300\n",
            "31/31 [==============================] - 0s 1ms/step - loss: 0.1958 - acc: 0.9342\n",
            "Epoch 174/300\n",
            "31/31 [==============================] - 0s 2ms/step - loss: 0.1222 - acc: 0.9671\n",
            "Epoch 175/300\n",
            "31/31 [==============================] - 0s 2ms/step - loss: 0.1211 - acc: 0.9539\n",
            "Epoch 176/300\n",
            "31/31 [==============================] - 0s 2ms/step - loss: 0.1482 - acc: 0.9605\n",
            "Epoch 177/300\n",
            "31/31 [==============================] - 0s 2ms/step - loss: 0.1156 - acc: 0.9605\n",
            "Epoch 178/300\n",
            "31/31 [==============================] - 0s 2ms/step - loss: 0.1241 - acc: 0.9539\n",
            "Epoch 179/300\n",
            "31/31 [==============================] - 0s 2ms/step - loss: 0.1427 - acc: 0.9539\n",
            "Epoch 180/300\n",
            "31/31 [==============================] - 0s 1ms/step - loss: 0.1002 - acc: 0.9934\n",
            "Epoch 181/300\n",
            "31/31 [==============================] - 0s 1ms/step - loss: 0.2273 - acc: 0.9145\n",
            "Epoch 182/300\n",
            "31/31 [==============================] - 0s 1ms/step - loss: 0.1024 - acc: 0.9737\n",
            "Epoch 183/300\n",
            "31/31 [==============================] - 0s 1ms/step - loss: 0.1352 - acc: 0.9276\n",
            "Epoch 184/300\n",
            "31/31 [==============================] - 0s 2ms/step - loss: 0.1031 - acc: 0.9539\n",
            "Epoch 185/300\n",
            "31/31 [==============================] - 0s 2ms/step - loss: 0.1328 - acc: 0.9671\n",
            "Epoch 186/300\n",
            "31/31 [==============================] - 0s 1ms/step - loss: 0.2095 - acc: 0.9408\n",
            "Epoch 187/300\n",
            "31/31 [==============================] - 0s 2ms/step - loss: 0.0993 - acc: 0.9539\n",
            "Epoch 188/300\n",
            "31/31 [==============================] - 0s 1ms/step - loss: 0.0836 - acc: 0.9803\n",
            "Epoch 189/300\n",
            "31/31 [==============================] - 0s 2ms/step - loss: 0.1326 - acc: 0.9671\n",
            "Epoch 190/300\n",
            "31/31 [==============================] - 0s 2ms/step - loss: 0.1221 - acc: 0.9474\n",
            "Epoch 191/300\n",
            "31/31 [==============================] - 0s 3ms/step - loss: 0.1492 - acc: 0.9408\n",
            "Epoch 192/300\n",
            "31/31 [==============================] - 0s 3ms/step - loss: 0.1244 - acc: 0.9737\n",
            "Epoch 193/300\n",
            "31/31 [==============================] - 0s 3ms/step - loss: 0.1541 - acc: 0.9474\n",
            "Epoch 194/300\n",
            "31/31 [==============================] - 0s 2ms/step - loss: 0.0894 - acc: 0.9671\n",
            "Epoch 195/300\n",
            "31/31 [==============================] - 0s 2ms/step - loss: 0.1734 - acc: 0.9474\n",
            "Epoch 196/300\n",
            "31/31 [==============================] - 0s 2ms/step - loss: 0.0970 - acc: 0.9605\n",
            "Epoch 197/300\n",
            "31/31 [==============================] - 0s 2ms/step - loss: 0.1112 - acc: 0.9605\n",
            "Epoch 198/300\n",
            "31/31 [==============================] - 0s 3ms/step - loss: 0.1094 - acc: 0.9474\n",
            "Epoch 199/300\n",
            "31/31 [==============================] - 0s 2ms/step - loss: 0.1309 - acc: 0.9737\n",
            "Epoch 200/300\n",
            "31/31 [==============================] - 0s 3ms/step - loss: 0.1012 - acc: 0.9671\n",
            "Epoch 201/300\n",
            "31/31 [==============================] - 0s 2ms/step - loss: 0.1039 - acc: 0.9605\n",
            "Epoch 202/300\n",
            "31/31 [==============================] - 0s 2ms/step - loss: 0.0944 - acc: 0.9671\n",
            "Epoch 203/300\n",
            "31/31 [==============================] - 0s 2ms/step - loss: 0.1107 - acc: 0.9605\n",
            "Epoch 204/300\n",
            "31/31 [==============================] - 0s 3ms/step - loss: 0.1871 - acc: 0.9671\n",
            "Epoch 205/300\n",
            "31/31 [==============================] - 0s 3ms/step - loss: 0.1236 - acc: 0.9671\n",
            "Epoch 206/300\n",
            "31/31 [==============================] - 0s 2ms/step - loss: 0.0916 - acc: 0.9671\n",
            "Epoch 207/300\n",
            "31/31 [==============================] - 0s 2ms/step - loss: 0.1145 - acc: 0.9539\n",
            "Epoch 208/300\n",
            "31/31 [==============================] - 0s 2ms/step - loss: 0.1453 - acc: 0.9474\n",
            "Epoch 209/300\n",
            "31/31 [==============================] - 0s 2ms/step - loss: 0.1438 - acc: 0.9408\n",
            "Epoch 210/300\n",
            "31/31 [==============================] - 0s 2ms/step - loss: 0.0960 - acc: 0.9868\n",
            "Epoch 211/300\n",
            "31/31 [==============================] - 0s 3ms/step - loss: 0.1470 - acc: 0.9539\n",
            "Epoch 212/300\n",
            "31/31 [==============================] - 0s 2ms/step - loss: 0.1101 - acc: 0.9671\n",
            "Epoch 213/300\n",
            "31/31 [==============================] - 0s 2ms/step - loss: 0.0905 - acc: 0.9671\n",
            "Epoch 214/300\n",
            "31/31 [==============================] - 0s 2ms/step - loss: 0.0927 - acc: 0.9539\n",
            "Epoch 215/300\n",
            "31/31 [==============================] - 0s 2ms/step - loss: 0.1106 - acc: 0.9737\n",
            "Epoch 216/300\n",
            "31/31 [==============================] - 0s 2ms/step - loss: 0.0891 - acc: 0.9737\n",
            "Epoch 217/300\n",
            "31/31 [==============================] - 0s 2ms/step - loss: 0.1437 - acc: 0.9342\n",
            "Epoch 218/300\n",
            "31/31 [==============================] - 0s 2ms/step - loss: 0.1311 - acc: 0.9539\n",
            "Epoch 219/300\n",
            "31/31 [==============================] - 0s 2ms/step - loss: 0.1155 - acc: 0.9803\n",
            "Epoch 220/300\n",
            "31/31 [==============================] - 0s 3ms/step - loss: 0.1045 - acc: 0.9671\n",
            "Epoch 221/300\n",
            "31/31 [==============================] - 0s 2ms/step - loss: 0.1017 - acc: 0.9671\n",
            "Epoch 222/300\n",
            "31/31 [==============================] - 0s 2ms/step - loss: 0.0974 - acc: 0.9539\n",
            "Epoch 223/300\n",
            "31/31 [==============================] - 0s 3ms/step - loss: 0.0688 - acc: 0.9737\n",
            "Epoch 224/300\n",
            "31/31 [==============================] - 0s 2ms/step - loss: 0.0897 - acc: 0.9671\n",
            "Epoch 225/300\n",
            "31/31 [==============================] - 0s 3ms/step - loss: 0.0743 - acc: 0.9868\n",
            "Epoch 226/300\n",
            "31/31 [==============================] - 0s 3ms/step - loss: 0.1109 - acc: 0.9474\n",
            "Epoch 227/300\n",
            "31/31 [==============================] - 0s 2ms/step - loss: 0.0887 - acc: 0.9671\n",
            "Epoch 228/300\n",
            "31/31 [==============================] - 0s 3ms/step - loss: 0.1406 - acc: 0.9474\n",
            "Epoch 229/300\n",
            "31/31 [==============================] - 0s 2ms/step - loss: 0.0636 - acc: 0.9868\n",
            "Epoch 230/300\n",
            "31/31 [==============================] - 0s 2ms/step - loss: 0.0905 - acc: 0.9605\n",
            "Epoch 231/300\n",
            "31/31 [==============================] - 0s 2ms/step - loss: 0.0786 - acc: 0.9868\n",
            "Epoch 232/300\n",
            "31/31 [==============================] - 0s 3ms/step - loss: 0.1140 - acc: 0.9539\n",
            "Epoch 233/300\n",
            "31/31 [==============================] - 0s 2ms/step - loss: 0.0623 - acc: 0.9934\n",
            "Epoch 234/300\n",
            "31/31 [==============================] - 0s 2ms/step - loss: 0.1370 - acc: 0.9342\n",
            "Epoch 235/300\n",
            "31/31 [==============================] - 0s 3ms/step - loss: 0.1644 - acc: 0.9474\n",
            "Epoch 236/300\n",
            "31/31 [==============================] - 0s 3ms/step - loss: 0.0790 - acc: 0.9803\n",
            "Epoch 237/300\n",
            "31/31 [==============================] - 0s 3ms/step - loss: 0.0703 - acc: 0.9803\n",
            "Epoch 238/300\n",
            "31/31 [==============================] - 0s 1ms/step - loss: 0.1197 - acc: 0.9605\n",
            "Epoch 239/300\n",
            "31/31 [==============================] - 0s 2ms/step - loss: 0.1412 - acc: 0.9539\n",
            "Epoch 240/300\n",
            "31/31 [==============================] - 0s 2ms/step - loss: 0.0893 - acc: 0.9605\n",
            "Epoch 241/300\n",
            "31/31 [==============================] - 0s 1ms/step - loss: 0.1191 - acc: 0.9803\n",
            "Epoch 242/300\n",
            "31/31 [==============================] - 0s 1ms/step - loss: 0.0888 - acc: 0.9539\n",
            "Epoch 243/300\n",
            "31/31 [==============================] - 0s 2ms/step - loss: 0.1207 - acc: 0.9605\n",
            "Epoch 244/300\n",
            "31/31 [==============================] - 0s 2ms/step - loss: 0.1135 - acc: 0.9474\n",
            "Epoch 245/300\n",
            "31/31 [==============================] - 0s 2ms/step - loss: 0.0851 - acc: 0.9803\n",
            "Epoch 246/300\n",
            "31/31 [==============================] - 0s 2ms/step - loss: 0.1555 - acc: 0.9671\n",
            "Epoch 247/300\n",
            "31/31 [==============================] - 0s 2ms/step - loss: 0.1096 - acc: 0.9605\n",
            "Epoch 248/300\n",
            "31/31 [==============================] - 0s 2ms/step - loss: 0.1087 - acc: 0.9671\n",
            "Epoch 249/300\n",
            "31/31 [==============================] - 0s 2ms/step - loss: 0.0777 - acc: 0.9671\n",
            "Epoch 250/300\n",
            "31/31 [==============================] - 0s 2ms/step - loss: 0.0906 - acc: 0.9737\n",
            "Epoch 251/300\n",
            "31/31 [==============================] - 0s 2ms/step - loss: 0.1733 - acc: 0.9342\n",
            "Epoch 252/300\n",
            "31/31 [==============================] - 0s 1ms/step - loss: 0.1100 - acc: 0.9605\n",
            "Epoch 253/300\n",
            "31/31 [==============================] - 0s 2ms/step - loss: 0.0746 - acc: 0.9868\n",
            "Epoch 254/300\n",
            "31/31 [==============================] - 0s 2ms/step - loss: 0.1675 - acc: 0.9474\n",
            "Epoch 255/300\n",
            "31/31 [==============================] - 0s 1ms/step - loss: 0.1096 - acc: 0.9474\n",
            "Epoch 256/300\n",
            "31/31 [==============================] - 0s 1ms/step - loss: 0.0756 - acc: 0.9737\n",
            "Epoch 257/300\n",
            "31/31 [==============================] - 0s 1ms/step - loss: 0.1253 - acc: 0.9474\n",
            "Epoch 258/300\n",
            "31/31 [==============================] - 0s 2ms/step - loss: 0.0958 - acc: 0.9671\n",
            "Epoch 259/300\n",
            "31/31 [==============================] - 0s 2ms/step - loss: 0.0878 - acc: 0.9803\n",
            "Epoch 260/300\n",
            "31/31 [==============================] - 0s 2ms/step - loss: 0.1037 - acc: 0.9474\n",
            "Epoch 261/300\n",
            "31/31 [==============================] - 0s 2ms/step - loss: 0.1038 - acc: 0.9737\n",
            "Epoch 262/300\n",
            "31/31 [==============================] - 0s 1ms/step - loss: 0.0926 - acc: 0.9737\n",
            "Epoch 263/300\n",
            "31/31 [==============================] - 0s 1ms/step - loss: 0.0608 - acc: 0.9737\n",
            "Epoch 264/300\n",
            "31/31 [==============================] - 0s 2ms/step - loss: 0.0720 - acc: 0.9671\n",
            "Epoch 265/300\n",
            "31/31 [==============================] - 0s 1ms/step - loss: 0.1312 - acc: 0.9474\n",
            "Epoch 266/300\n",
            "31/31 [==============================] - 0s 2ms/step - loss: 0.1214 - acc: 0.9605\n",
            "Epoch 267/300\n",
            "31/31 [==============================] - 0s 2ms/step - loss: 0.0996 - acc: 0.9539\n",
            "Epoch 268/300\n",
            "31/31 [==============================] - 0s 2ms/step - loss: 0.1133 - acc: 0.9539\n",
            "Epoch 269/300\n",
            "31/31 [==============================] - 0s 2ms/step - loss: 0.0976 - acc: 0.9605\n",
            "Epoch 270/300\n",
            "31/31 [==============================] - 0s 2ms/step - loss: 0.1198 - acc: 0.9408\n",
            "Epoch 271/300\n",
            "31/31 [==============================] - 0s 1ms/step - loss: 0.0744 - acc: 0.9803\n",
            "Epoch 272/300\n",
            "31/31 [==============================] - 0s 1ms/step - loss: 0.0817 - acc: 0.9737\n",
            "Epoch 273/300\n",
            "31/31 [==============================] - 0s 1ms/step - loss: 0.0828 - acc: 0.9737\n",
            "Epoch 274/300\n",
            "31/31 [==============================] - 0s 1ms/step - loss: 0.1053 - acc: 0.9474\n",
            "Epoch 275/300\n",
            "31/31 [==============================] - 0s 1ms/step - loss: 0.1060 - acc: 0.9671\n",
            "Epoch 276/300\n",
            "31/31 [==============================] - 0s 2ms/step - loss: 0.0718 - acc: 0.9803\n",
            "Epoch 277/300\n",
            "31/31 [==============================] - 0s 1ms/step - loss: 0.1801 - acc: 0.9342\n",
            "Epoch 278/300\n",
            "31/31 [==============================] - 0s 1ms/step - loss: 0.1358 - acc: 0.9474\n",
            "Epoch 279/300\n",
            "31/31 [==============================] - 0s 2ms/step - loss: 0.0733 - acc: 0.9737\n",
            "Epoch 280/300\n",
            "31/31 [==============================] - 0s 2ms/step - loss: 0.0729 - acc: 0.9803\n",
            "Epoch 281/300\n",
            "31/31 [==============================] - 0s 2ms/step - loss: 0.1287 - acc: 0.9474\n",
            "Epoch 282/300\n",
            "31/31 [==============================] - 0s 1ms/step - loss: 0.0301 - acc: 1.0000\n",
            "Epoch 283/300\n",
            "31/31 [==============================] - 0s 2ms/step - loss: 0.0774 - acc: 0.9539\n",
            "Epoch 284/300\n",
            "31/31 [==============================] - 0s 2ms/step - loss: 0.0937 - acc: 0.9671\n",
            "Epoch 285/300\n",
            "31/31 [==============================] - 0s 2ms/step - loss: 0.1178 - acc: 0.9539\n",
            "Epoch 286/300\n",
            "31/31 [==============================] - 0s 1ms/step - loss: 0.1276 - acc: 0.9408\n",
            "Epoch 287/300\n",
            "31/31 [==============================] - 0s 2ms/step - loss: 0.0736 - acc: 0.9671\n",
            "Epoch 288/300\n",
            "31/31 [==============================] - 0s 2ms/step - loss: 0.1253 - acc: 0.9342\n",
            "Epoch 289/300\n",
            "31/31 [==============================] - 0s 2ms/step - loss: 0.0622 - acc: 0.9671\n",
            "Epoch 290/300\n",
            "31/31 [==============================] - 0s 2ms/step - loss: 0.0990 - acc: 0.9539\n",
            "Epoch 291/300\n",
            "31/31 [==============================] - 0s 2ms/step - loss: 0.0706 - acc: 0.9671\n",
            "Epoch 292/300\n",
            "31/31 [==============================] - 0s 2ms/step - loss: 0.0912 - acc: 0.9737\n",
            "Epoch 293/300\n",
            "31/31 [==============================] - 0s 2ms/step - loss: 0.0740 - acc: 0.9737\n",
            "Epoch 294/300\n",
            "31/31 [==============================] - 0s 2ms/step - loss: 0.0952 - acc: 0.9671\n",
            "Epoch 295/300\n",
            "31/31 [==============================] - 0s 2ms/step - loss: 0.1464 - acc: 0.9408\n",
            "Epoch 296/300\n",
            "31/31 [==============================] - 0s 2ms/step - loss: 0.0888 - acc: 0.9868\n",
            "Epoch 297/300\n",
            "31/31 [==============================] - 0s 1ms/step - loss: 0.1121 - acc: 0.9737\n",
            "Epoch 298/300\n",
            "31/31 [==============================] - 0s 2ms/step - loss: 0.1151 - acc: 0.9474\n",
            "Epoch 299/300\n",
            "31/31 [==============================] - 0s 1ms/step - loss: 0.0480 - acc: 0.9803\n",
            "Epoch 300/300\n",
            "31/31 [==============================] - 0s 1ms/step - loss: 0.0966 - acc: 0.9605\n",
            "Modelo creado y guardado como chatbot_model.h5\n"
          ]
        }
      ]
    },
    {
      "cell_type": "markdown",
      "source": [
        "Esta función recibe una oración como entrada y realiza una serie de operaciones para limpiar y procesar esa oración. \n",
        "\n",
        "En primer lugar, utiliza la función nltk.word_tokenize de la biblioteca Natural Language Toolkit (nltk) para dividir la oración en una lista de palabras. \n",
        "\n",
        "Despues utiliza la función lemmatizer, para encontrar el lema (forma básica) de cada palabra en la lista y las convierte en minúsculas. "
      ],
      "metadata": {
        "id": "m1jUIyoQlYF7"
      }
    },
    {
      "cell_type": "code",
      "source": [
        "model = keras.models.load_model('chatbot_model.h5')\n",
        "print(keras.__version__)"
      ],
      "metadata": {
        "colab": {
          "base_uri": "https://localhost:8080/"
        },
        "id": "ON-E2n2d5Z-7",
        "outputId": "d8ce566f-1fac-4d18-cebd-aa32a3379da6"
      },
      "execution_count": null,
      "outputs": [
        {
          "output_type": "stream",
          "name": "stdout",
          "text": [
            "2.11.0\n"
          ]
        }
      ]
    },
    {
      "cell_type": "code",
      "source": [
        "def clean_up_sentence(sentence):\n",
        "\n",
        "  sentence_words = nltk.word_tokenize(sentence)\n",
        "  sentence_words = [lemmatizer.lemmatize(word.lower()) for word in sentence_words]\n",
        "\n",
        "  return sentence_words"
      ],
      "metadata": {
        "id": "MSuguuShMkGA"
      },
      "execution_count": null,
      "outputs": []
    },
    {
      "cell_type": "markdown",
      "source": [
        "Definimos una función llamada senteces que toma como entrada una oración, una lista de palabras y un argumento opcional show_details que indica si se deben mostrar detalles o no.\n",
        "\n",
        "La función primero llama a la función clean_up_sentence para tokenizar la oración y reducirla a su forma base usando el lematizador. \n",
        "\n",
        "Luego, crea una bolsa de palabras representada por una matriz de tamaño N, donde N es el número de palabras en la lista words. \n",
        "\n",
        "Cada elemento en la matriz es inicializado a 0.\n",
        "\n",
        "La función itera sobre cada palabra en la oración tokenizada y verifica si la palabra se encuentra en la lista de palabras. \n",
        "\n",
        "Si la palabra se encuentra en la lista, entonces la posición correspondiente en la matriz de la bolsa de palabras se establece en 1.\n",
        "\n",
        "Si show_details es verdadero, la función muestra cada palabra encontrada en la bolsa de palabras.\n",
        "\n",
        "Finalmente, la función devuelve la matriz de la bolsa de palabras."
      ],
      "metadata": {
        "id": "oUmt7rLFl58S"
      }
    },
    {
      "cell_type": "code",
      "source": [
        "def sentences(sentence, words, show_details=True):\n",
        "\n",
        "  sentence_words = clean_up_sentence(sentence)\n",
        "\n",
        "  bag = [0]*len(words) \n",
        "\n",
        "  for s in sentence_words:  \n",
        "      for i,w in enumerate(words):\n",
        "          if w == s: \n",
        "              bag[i] = 1\n",
        "              if show_details:\n",
        "                  print (\"encontrado en la bolsas de palabras: %s\" % w)\n",
        "  return(np.array(bag))"
      ],
      "metadata": {
        "id": "7qvtOyL8NCpT"
      },
      "execution_count": null,
      "outputs": []
    },
    {
      "cell_type": "markdown",
      "source": [
        "Tomamos una oración como entrada junto con un modelo entrenado y devuelve una lista de intenciones con sus respectivas probabilidades. \n",
        "\n",
        "Primero, usamos la función \"sentences\" para convertir la oración en una matriz de la bolsa de palabras y luego usa el modelo para predecir la probabilidad de cada intención. \n",
        "\n",
        "Luego, filtra las predicciones que tienen una probabilidad por debajo de un umbral de error y devuelve una lista ordenada de intenciones y sus probabilidades."
      ],
      "metadata": {
        "id": "2rrniYAfnExt"
      }
    },
    {
      "cell_type": "code",
      "source": [
        "def predict_class(sentence, model):\n",
        "\n",
        "  p = sentences(sentence, words,show_details=False)\n",
        "  res = model.predict(np.array([p]))[0]\n",
        "  ERROR_THRESHOLD = 0.25\n",
        "\n",
        "  results = [[i,r] for i,r in enumerate(res) if r>ERROR_THRESHOLD]\n",
        "  results.sort(key=lambda x: x[1], reverse=True)\n",
        "\n",
        "  return_list = []\n",
        "\n",
        "  for r in results:\n",
        "      return_list.append({\"intent\": classes[r[0]], \"probability\": str(r[1])})\n",
        "\n",
        "  return return_list"
      ],
      "metadata": {
        "id": "Tecp4tIHNFOl"
      },
      "execution_count": null,
      "outputs": []
    },
    {
      "cell_type": "markdown",
      "source": [
        "Definemos la función getResponse que toma una lista de intenciones y un objeto JSON con la definición de esas intenciones. \n",
        "\n",
        "La función busca la intención con la probabilidad más alta en la lista y selecciona una respuesta aleatoria de las respuestas asociadas a esa intención.\n"
      ],
      "metadata": {
        "id": "kDJl0_tcn4nI"
      }
    },
    {
      "cell_type": "code",
      "source": [
        "def getResponse(ints, intents_json):\n",
        "\n",
        "  tag = ints[0]['intent']\n",
        "  list_of_intents = intents_json['intents']\n",
        "  for i in list_of_intents:\n",
        "      if(i['tag']== tag):\n",
        "          result = random.choice(i['responses'])\n",
        "          break\n",
        "  return result"
      ],
      "metadata": {
        "id": "a_wZ7WBtNJ8R"
      },
      "execution_count": null,
      "outputs": []
    },
    {
      "cell_type": "markdown",
      "source": [
        "Función principal del chatbot. \n",
        "\n",
        "Toma como entrada una cadena de texto, y utiliza la función predict_class() para predecir la intención detrás del mensaje.\n",
        "\n",
        "Luego utiliza la función getResponse() para obtener una respuesta aleatoria del archivo JSON que contiene las posibles respuestas según la intención detectada.\n",
        "\n",
        "Por ultimo, devuelve la respuesta obtenida."
      ],
      "metadata": {
        "id": "sL4tBGrLogxS"
      }
    },
    {
      "cell_type": "code",
      "source": [
        "def chatbot_response(text): \n",
        "  ints = predict_class(text, model)\n",
        "  res = getResponse(ints, intents)\n",
        "  return res"
      ],
      "metadata": {
        "id": "TSthnwc_NUcQ"
      },
      "execution_count": null,
      "outputs": []
    },
    {
      "cell_type": "code",
      "source": [
        "start = True\n",
        "\n",
        "while start:\n",
        "\n",
        "  query = input('Introduce tu mensaje: ')\n",
        "  if query in ['quitar','salir','adios']:\n",
        "      start = False\n",
        "      continue\n",
        "  try:\n",
        "      res = chatbot_response(query)\n",
        "      print(res)\n",
        "  except:\n",
        "      print('Es posible que deba reformular su pregunta.')"
      ],
      "metadata": {
        "colab": {
          "base_uri": "https://localhost:8080/"
        },
        "id": "0G5nxCvgNZJP",
        "outputId": "65ec8554-fed0-42a0-cffe-147c71ce1723"
      },
      "execution_count": null,
      "outputs": [
        {
          "name": "stdout",
          "output_type": "stream",
          "text": [
            "Introduce tu mensaje: hola\n",
            "1/1 [==============================] - 0s 107ms/step\n",
            "¡Hola! Soy el chatbot de SaveYourLife especializados en la detección de tumores mediante CNN de imágenes de resonancia magnética. ¿En qué puedo ayudarte?\n",
            "Introduce tu mensaje: que puedes hacer\n",
            "1/1 [==============================] - 0s 52ms/step\n",
            "Puedo proporcionar información sobre la detección de tumores cerebrales, responder preguntas relacionadas los tipos de tumores que detectamos y mantener conversaciones diarias. No me consideres un sustituto de un profesional de la medicina. Por favor, busca ayuda si no te sientes satisfecho conmigo.\n",
            "Introduce tu mensaje: \n",
            "1/1 [==============================] - 0s 25ms/step\n",
            "No estoy seguro de entender.\n",
            "Introduce tu mensaje: \n",
            "1/1 [==============================] - 0s 24ms/step\n",
            "Por favor, no dudes en hablar conmigo.\n",
            "Introduce tu mensaje: \n",
            "1/1 [==============================] - 0s 24ms/step\n",
            "No estoy seguro de entender.\n",
            "Introduce tu mensaje: jajaja\n",
            "1/1 [==============================] - 0s 25ms/step\n",
            "Lo siento, no te entendí.\n",
            "Introduce tu mensaje: jajjaja\n",
            "1/1 [==============================] - 0s 39ms/step\n",
            "Por favor, no dudes en hablar conmigo.\n",
            "Introduce tu mensaje: salir\n"
          ]
        }
      ]
    },
    {
      "cell_type": "code",
      "source": [],
      "metadata": {
        "id": "gURHh6L6Nf1Y"
      },
      "execution_count": null,
      "outputs": []
    }
  ]
}